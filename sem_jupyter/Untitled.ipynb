{
 "cells": [
  {
   "cell_type": "markdown",
   "id": "22037117",
   "metadata": {},
   "source": [
    "f(x) = -12x^4*sin(cos(x)) - 18x^3+5x^2 + 10x - 30\n",
    "\n",
    "Определить корни\n",
    "\n",
    "Найти интервалы, на которых функция возрастает\n",
    "\n",
    "Найти интервалы, на которых функция убывает\n",
    "\n",
    "Построить график\n",
    "\n",
    "Вычислить вершину\n",
    "\n",
    "Определить промежутки, на котором f > 0\n",
    "\n",
    "Определить промежутки, на котором f < 0"
   ]
  },
  {
   "cell_type": "code",
   "execution_count": 6,
   "id": "2df8567f",
   "metadata": {},
   "outputs": [],
   "source": [
    "import sympy as sp\n",
    "import math as  m\n",
    "import matplotlib.pyplot as plt\n",
    "import numpy as n"
   ]
  },
  {
   "cell_type": "code",
   "execution_count": 11,
   "id": "56946463",
   "metadata": {},
   "outputs": [
    {
     "name": "stdout",
     "output_type": "stream",
     "text": [
      "12*x**4*sin(x)*cos(cos(x)) - 48*x**3*sin(cos(x)) - 54*x**2 + 10*x + 10\n"
     ]
    }
   ],
   "source": [
    "x = sp.Symbol('x')\n",
    "y = -12*x**4*sp.sin(sp.cos(x))-18*x**3+5*x**2 + 10*x - 30\n",
    "\n",
    "yprime = y.diff(x)\n",
    "print(yprime)"
   ]
  },
  {
   "cell_type": "code",
   "execution_count": null,
   "id": "1b027494",
   "metadata": {},
   "outputs": [],
   "source": [
    "x1 = solve(yprime,x)\n",
    "print(\"Вершина: \",x1[0])"
   ]
  }
 ],
 "metadata": {
  "kernelspec": {
   "display_name": "Python 3 (ipykernel)",
   "language": "python",
   "name": "python3"
  },
  "language_info": {
   "codemirror_mode": {
    "name": "ipython",
    "version": 3
   },
   "file_extension": ".py",
   "mimetype": "text/x-python",
   "name": "python",
   "nbconvert_exporter": "python",
   "pygments_lexer": "ipython3",
   "version": "3.10.6"
  }
 },
 "nbformat": 4,
 "nbformat_minor": 5
}
